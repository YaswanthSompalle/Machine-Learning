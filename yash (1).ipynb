{
 "cells": [
  {
   "cell_type": "markdown",
   "id": "d5ad59e0",
   "metadata": {},
   "source": [
    "##### Question 1\n",
    "The following is a list of 10 students ages:\n",
    "ages = [19, 22, 19, 24, 20, 25, 26, 24, 25, 24]<br>\n",
    "• Sort the list and find the min and max age<br>\n",
    "• Add the min age and the max age again to the list<br>\n",
    "• Find the median age (one middle item or two middle items divided by two)<br>\n",
    "• Find the average age (sum of all items divided by their number)<br>\n",
    "• Find the range of the ages (max minus min)<br>"
   ]
  },
  {
   "cell_type": "code",
   "execution_count": 1,
   "id": "58cf00c8",
   "metadata": {},
   "outputs": [
    {
     "name": "stdout",
     "output_type": "stream",
     "text": [
      "Sorted ages list: [19, 19, 20, 22, 24, 24, 24, 25, 25, 26]\n",
      "Maximum age in list ages is: 26\n",
      "Minimum age in list ages is: 19\n",
      "Ages list after appending Maximum and Minium values [19, 19, 20, 22, 24, 24, 24, 25, 25, 26, 19, 26]\n",
      "Median value of the list is: 24.0\n",
      "Average of the ages list is: 22.75\n",
      "range of the ages list is: 7\n"
     ]
    }
   ],
   "source": [
    "# Ages of 10 students are initilized in a list ages.\n",
    "ages = [19,22,19,24,20,25,26,24,25,24]\n",
    "\n",
    "# Using sort function to sort in ascending order\n",
    "ages.sort()\n",
    "#Printing sorted list\n",
    "print(\"Sorted ages list:\",ages)\n",
    "\n",
    "#Finding maximum and minimum of ages list and appending back into ages list.\n",
    "maxi = max(ages)\n",
    "print(\"Maximum age in list ages is:\",maxi)\n",
    "mini = min(ages)\n",
    "print(\"Minimum age in list ages is:\",mini)\n",
    "ages.append(mini)\n",
    "ages.append(maxi)\n",
    "\n",
    "print(\"Ages list after appending Maximum and Minium values\",ages)\n",
    "#Getting the length of the ages list to find the median of list values.\n",
    "leng = len(ages)\n",
    "#If length is odd middle number is median if even then two middle items divided by 2.\n",
    "if(leng%2!=0):\n",
    "    median = ages[leng//2]\n",
    "else:\n",
    "    median = (ages[leng//2 - 1]+ages[leng//2])/2\n",
    "print(\"Median value of the list is:\",median)\n",
    "\n",
    "#calculating average value of the ages list i.e sum of list ages divided by length of the list.\n",
    "average = sum(ages)/leng\n",
    "print(\"Average of the ages list is:\",average)\n",
    "\n",
    "#Range of the list ages is maximum element minus minimum element\n",
    "rang = maxi - mini\n",
    "print(\"range of the ages list is:\",rang)\n",
    "    "
   ]
  },
  {
   "cell_type": "markdown",
   "id": "ff12641c",
   "metadata": {},
   "source": [
    "##### Question 2\n",
    "• Create an empty dictionary called dog<br>\n",
    "• Add name, color, breed, legs, age to the dog dictionary<br>\n",
    "• Create a student dictionary and add first_name, last_name, gender, age, marital status, <br>\n",
    "skills, country, city and address as keys for the dictionary<br>\n",
    "• Get the length of the student dictionary<br>\n",
    "• Get the value of skills and check the data type, it should be a list<br>\n",
    "• Modify the skills values by adding one or two skills<br>\n",
    "• Get the dictionary keys as a list<br>\n",
    "• Get the dictionary values as a list<br>"
   ]
  },
  {
   "cell_type": "code",
   "execution_count": 7,
   "id": "7aa518f1",
   "metadata": {},
   "outputs": [
    {
     "name": "stdout",
     "output_type": "stream",
     "text": [
      "Dictionary dog contains the following key values pairs: {'name': 'Charlie', 'color': 'Black', 'breed': 'Labradour', 'legs': 4, 'age': 8}\n",
      "Dictionary student contains the following key value pairs:  {'first_name': 'Yashwanth', 'last_name': 'Vemula', 'gender': 'Male', 'age': 22, 'martial status': 'single', 'skills': ['C', 'C++', 'java'], 'country': 'USA', 'city': 'Cincinnati', 'address': 'Ohio'}\n",
      "Lenth of the student dictionary:  9\n",
      "The type of student skills:  <class 'list'>\n",
      "Student list after adding extra skill:  {'first_name': 'Yashwanth', 'last_name': 'Vemula', 'gender': 'Male', 'age': 22, 'martial status': 'single', 'skills': ['C', 'C++', 'java', 'Python'], 'country': 'USA', 'city': 'Cincinnati', 'address': 'Ohio'}\n",
      "List of keys in student dictionary is  ['first_name', 'last_name', 'gender', 'age', 'martial status', 'skills', 'country', 'city', 'address']\n",
      "List of values in student dictionary:  ['Yashwanth', 'Vemula', 'Male', 22, 'single', ['C', 'C++', 'java', 'Python'], 'USA', 'Cincinnati', 'Ohio']\n"
     ]
    }
   ],
   "source": [
    "# Empty dictionary dog is created.\n",
    "dog = {}\n",
    "# Adding name, color, breed, legs, age to the dog dictionary with values to the associated keys. \n",
    "dog['name'] = 'Charlie'\n",
    "dog['color'] = 'Black'\n",
    "dog['breed'] = 'Labradour'\n",
    "dog['legs'] = 4\n",
    "dog['age']= 8\n",
    "# Printing the dictionary of the dog\n",
    "print(\"Dictionary dog contains the following key values pairs:\",dog)\n",
    "\n",
    "# Creating a student dictionary with first_name, last_name, gender, age, marital status,skills, country, city and address as keys for the dictionary\n",
    "student={'first_name': 'Yashwanth','last_name' : 'Vemula','gender' : 'Male','age' : 22,'martial status': 'single','skills': ['C','C++','java'],'country' : 'USA'\n",
    ",'city':'Cincinnati','address':'Ohio'}\n",
    "print(\"Dictionary student contains the following key value pairs: \",student)\n",
    "\n",
    "#Printing the length of the student dictionary \n",
    "print(\"Lenth of the student dictionary: \",len(student))\n",
    "\n",
    "#Getting the values of skills of a student and printing the type of skills\n",
    "skills= student['skills']\n",
    "print(\"The type of student skills: \",type(skills))\n",
    "#ading new skill into the student skill list\n",
    "skills.append('Python')\n",
    "student['skills']=skills\n",
    "\n",
    "#Printing student dictionary after adding new skill.\n",
    "print(\"Student list after adding extra skill: \",student)\n",
    "\n",
    "#Getting keys and values of a student individually using .keys() and .values() methods of dictionary\n",
    "lis_key = list(student.keys())\n",
    "print(\"List of keys in student dictionary is \",lis_key)\n",
    "list_values = list(student.values())\n",
    "print(\"List of values in student dictionary: \",list_values)"
   ]
  },
  {
   "cell_type": "markdown",
   "id": "f36f6c88",
   "metadata": {},
   "source": [
    "##### Question 3\n",
    "• Create a tuple containing names of your sisters and your brothers (imaginary siblings are \n",
    "fine)<br>\n",
    "• Join brothers and sisters tuples and assign it to siblings<br>\n",
    "• How many siblings do you have?<br>\n",
    "• Modify the siblings tuple and add the name of your father and mother and assign it to \n",
    "family_members"
   ]
  },
  {
   "cell_type": "code",
   "execution_count": 9,
   "id": "92145a8a",
   "metadata": {},
   "outputs": [
    {
     "name": "stdout",
     "output_type": "stream",
     "text": [
      "Siblings tuple values:  ('Do!!y', 'Divya', 'Tharuni', 'Satish', 'Akshith', 'Manish')\n",
      "Lenth of the tuple siblings 6\n",
      "values of tuples family_members is:  ('Do!!y', 'Divya', 'Tharuni', 'Satish', 'Akshith', 'Manish', 'Prem Raj', 'Jyothi')\n"
     ]
    }
   ],
   "source": [
    "# Initiliazing sister and brother tuples with values\n",
    "sister = (\"Do!!y\",\"Divya\",\"Tharuni\")\n",
    "brother = (\"Satish\",\"Akshith\",\"Manish\")\n",
    "\n",
    "#Merging both sister and brother tuples into siblings tuple with + operator\n",
    "siblings = sister + brother\n",
    "\n",
    "print(\"Siblings tuple values: \",siblings)\n",
    "\n",
    "#Length of the tuple siblings after merging\n",
    "print(\"Lenth of the tuple siblings\",len(siblings))\n",
    "\n",
    "#Modifying the sibling touple by adding the name of mother and father using tuple + where we enclose the values of mother and father in paranthesis by adding comma at last.\n",
    "siblings = siblings + (\"Prem Raj\",\"Jyothi\",)\n",
    "\n",
    "# assigning siblings to family_members\n",
    "family_members = siblings\n",
    "print(\"values of tuples family_members is: \",family_members)"
   ]
  },
  {
   "cell_type": "markdown",
   "id": "6ffe0d76",
   "metadata": {},
   "source": [
    "##### Question 4\n",
    "it_companies = {'Facebook', 'Google', 'Microsoft', 'Apple', 'IBM', 'Oracle', 'Amazon'} <br>\n",
    "A = {19, 22, 24, 20, 25, 26}<br>\n",
    "B = {19, 22, 20, 25, 26, 24, 28, 27}<br>\n",
    "age = [22, 19, 24, 25, 26, 24, 25, 24]<br>\n",
    "• Find the length of the set it_companies<br>\n",
    "• Add 'Twitter' to it_companies<br>\n",
    "• Insert multiple IT companies at once to the set it_companies<br>\n",
    "• Remove one of the companies from the set it_companies<br>\n",
    "• What is the difference between remove and discard<br>\n",
    "• Join A and B<br>\n",
    "• Find A intersection B<br>\n",
    "• Is A subset of B<br>\n",
    "• Are A and B disjoint sets<br>\n",
    "• Join A with B and B with A<br>\n",
    "• What is the symmetric difference between A and B<br>\n",
    "• Delete the sets completely<br>\n",
    "• Convert the ages to a set and compare the length of the list and the set.<br>\n"
   ]
  },
  {
   "cell_type": "code",
   "execution_count": 18,
   "id": "683e3989",
   "metadata": {},
   "outputs": [
    {
     "name": "stdout",
     "output_type": "stream",
     "text": [
      "Length of the set it_companies is:  7\n",
      "it_companies values after adding new values:  {'Tesla', 'Apple', 'Amazon', 'Netflix', 'Facebook', 'IBM', 'Google', 'Microsoft', 'Oracle', 'Wipro', 'Twitter'}\n",
      "it_companies values after removing random value:  {'Tesla', 'Apple', 'Amazon', 'Netflix', 'Facebook', 'IBM', 'Google', 'Microsoft', 'Oracle', 'Twitter'}\n",
      "Joining set A with B:  {19, 20, 22, 24, 25, 26, 27, 28}\n",
      "Intersection of sets A,B:  {19, 20, 22, 24, 25, 26}\n",
      "A is subset of B:  True\n",
      "A is disjoint set of B:  False\n",
      "Symmetric difference between A and B:  {27, 28}\n",
      "Joining set A with B:  {19, 20, 22, 24, 25, 26, 27, 28}\n",
      "Joining B with set A:  {19, 20, 22, 24, 25, 26, 27, 28}\n",
      "set()\n",
      "set()\n",
      "Age as a List:  [22, 19, 24, 25, 26, 24, 25, 24]\n",
      "age list after converting into set:  {19, 22, 24, 25, 26}\n",
      "ages as a list lenth:  8\n",
      "ages as a set length 5\n"
     ]
    }
   ],
   "source": [
    "#Declaring a set it_companies with values\n",
    "it_companies = {'Facebook', 'Google', 'Microsoft', 'Apple', 'IBM', 'Oracle', 'Amazon'}\n",
    "#PRinting length of it_companies\n",
    "print(\"Length of the set it_companies is: \",len(it_companies))\n",
    "#Adding values into set.\n",
    "it_companies.add('Twitter')\n",
    "# Inserting multiple IT companies at once to the set it_companies\n",
    "other_it = ['Wipro','Netflix','Tesla']\n",
    "it_companies.update(other_it)\n",
    "print(\"it_companies values after adding new values: \",it_companies)\n",
    "# Removing one values from the it_companies in random\n",
    "it_companies.discard('Wipro')\n",
    "print(\"it_companies values after removing random value: \",it_companies)\n",
    "'''\n",
    "The common functionality in remove and discard is both delete elements which are\n",
    "in the set only if the element presents\n",
    "if element is not present discard will not raise any exception but remove function does '''\n",
    "\n",
    "# Declarin the sets A and B\n",
    "A = {19, 22, 24, 20, 25, 26}\n",
    "B = {19, 22, 20, 25, 26, 24, 28, 27} \n",
    "\n",
    "# Joining sets A and B with Join operator \"|\"\n",
    "print(\"Joining set A with B: \",A|B)\n",
    "\n",
    "# Intersection of Sets A and B uisng & operator\n",
    "print(\"Intersection of sets A,B: \", A & B)\n",
    "\n",
    "\n",
    "# checking whether A is subset of B returns Ture or False.\n",
    "print(\"A is subset of B: \",A.issubset(B))\n",
    "# checking whether A is disjoint set of B.\n",
    "print(\"A is disjoint set of B: \",A.isdisjoint(B))\n",
    "\n",
    "# Symmetric difference between A and B using ^ operator\n",
    "print(\"Symmetric difference between A and B: \",A ^ B)\n",
    "#Join A with B and B with A, uisng inbuilt union function this time\n",
    "print(\"Joining set A with B: \",A.union(B))\n",
    "print(\"Joining B with set A: \",B.union(A))\n",
    "# Deleting the value of sets completely using clear funtion\n",
    "\n",
    "A.clear()\n",
    "B.clear()\n",
    "\n",
    "print(A)\n",
    "print(B)\n",
    "\n",
    "# Convert the ages to a set\n",
    "ages = [22, 19, 24, 25, 26, 24, 25, 24]\n",
    "print(\"Age as a List: \",ages)\n",
    "age_set = set(ages)\n",
    "print(\"age list after converting into set: \",age_set)\n",
    "\n",
    "\n",
    "print(\"ages as a list lenth: \",len(ages))\n",
    "print(\"ages as a set length\",len(age_set))"
   ]
  },
  {
   "cell_type": "markdown",
   "id": "5f1e28a6",
   "metadata": {},
   "source": [
    "##### Question 5 \n",
    "The radius of a circle is 30 meters.<br>\n",
    "• Calculate the area of a circle and assign the value to a variable name of _area_of_circle_<br>\n",
    "• Calculate the circumference of a circle and assign the value to a variable name of\n",
    "_circum_of_circle_<br>\n",
    "• Take radius as user input and calculate the area."
   ]
  },
  {
   "cell_type": "code",
   "execution_count": 29,
   "id": "342034c2",
   "metadata": {},
   "outputs": [
    {
     "name": "stdout",
     "output_type": "stream",
     "text": [
      "Area of a circle with radius 30 is:  2826.0\n",
      "Circumference of a circle with radius 30 is:  188.4\n",
      "Please provide radius of circle 6\n",
      "Area of a circle for the user input 6 is 113.04\n"
     ]
    }
   ],
   "source": [
    "#The radius of a circle is 30 meters.\n",
    "radius=30\n",
    "\n",
    "#Calculate the area of a circle and assign the value to a variable name of _area_of_circle_\n",
    "_area_of_circle_ = 3.14 * radius**2\n",
    "print(\"Area of a circle with radius 30 is: \", _area_of_circle_)\n",
    "#Calculate the circumference of a circle and assign the value to a variable name of _circum_of_circle_\n",
    "_circum_of_circle_ = 2 * 3.14 * radius\n",
    "print(\"Circumference of a circle with radius 30 is: \",_circum_of_circle_)\n",
    "\n",
    "radius = int(input(\"Please provide radius of circle \"))\n",
    "print(\"Area of a circle for the user input {0} is {1:.2f}\".format(radius,3.14 * radius**2))"
   ]
  },
  {
   "cell_type": "markdown",
   "id": "a381ec8f",
   "metadata": {},
   "source": [
    "##### Question 6\n",
    "“I am a teacher and I love to inspire and teach people”<br>\n",
    "• How many unique words have been used in the sentence? Use the split methods and set \n",
    "to get the unique words"
   ]
  },
  {
   "cell_type": "code",
   "execution_count": 30,
   "id": "31363756",
   "metadata": {},
   "outputs": [
    {
     "name": "stdout",
     "output_type": "stream",
     "text": [
      "Declared sentence is:  I am a teacher and I love to inspire and teach people\n",
      "Count of unique words is:  10\n",
      "The uinque of words in declared sentence is {'inspire', 'and', 'I', 'am', 'love', 'a', 'teach', 'to', 'teacher', 'people'}\n"
     ]
    }
   ],
   "source": [
    "# Ddeclaring the String in a varibale sentence\n",
    "sentence = \"I am a teacher and I love to inspire and teach people\"\n",
    "print(\"Declared sentence is: \",sentence)\n",
    "\n",
    "#using split method to get the unique words in a sentence and storing in a set.\n",
    "words=set(sentence.split(\" \"))\n",
    "\n",
    "#Printing the count of uinque words and words\n",
    "print(\"Count of unique words is: \",len(words))\n",
    "print(\"The uinque of words in declared sentence is\",words)"
   ]
  },
  {
   "cell_type": "markdown",
   "id": "6749813d",
   "metadata": {},
   "source": [
    "##### Question 7\n",
    "Use a tab escape sequence to get the following lines.<br>\n",
    "Name Age Country City <br>\n",
    "Asabeneh 250 Finland Helsinki<br>"
   ]
  },
  {
   "cell_type": "code",
   "execution_count": 33,
   "id": "c2605603",
   "metadata": {},
   "outputs": [
    {
     "name": "stdout",
     "output_type": "stream",
     "text": [
      "Name \t\t Age \t Country \t City\n",
      "Asabeneh \t 250 \t Finland \t Helsinki\n"
     ]
    }
   ],
   "source": [
    "#Using a tab escape sequence to get the following lines.\n",
    "line1 = \"Name \\t\\t Age \\t Country \\t City\"\n",
    "line2 = \"Asabeneh \\t 250 \\t Finland \\t Helsinki\"\n",
    "# Printing 2 lines which doesn't print the escape character \\t\n",
    "print(line1)\n",
    "print(line2)"
   ]
  },
  {
   "cell_type": "markdown",
   "id": "d908c6ba",
   "metadata": {},
   "source": [
    "##### Question 8\n",
    "Use the string formatting method to display the following:\n",
    "radius = 10\n",
    "area = 3.14 * radius ** 2\n",
    "“The area of a circle with radius 10 is 314 meters square.”"
   ]
  },
  {
   "cell_type": "code",
   "execution_count": 34,
   "id": "927430fc",
   "metadata": {},
   "outputs": [
    {
     "name": "stdout",
     "output_type": "stream",
     "text": [
      "The area of a circle with radius 10 is 314.0 meter squares\n"
     ]
    }
   ],
   "source": [
    "# Using the string formatting method to display the following: radius = 10 area = 3.14 * radius ** 2 \n",
    "radius = 10\n",
    "area = 3.14 * radius**2\n",
    "print(\"The area of a circle with radius {0} is {1} meter squares\".format(radius,area))"
   ]
  },
  {
   "cell_type": "markdown",
   "id": "da608698",
   "metadata": {},
   "source": [
    "##### Question 9\n",
    "Write a program, which reads weights (lbs.) of N students into a list and convert these weights to <br>\n",
    "kilograms in a separate list using Loop. N: No of students (Read input from user)<br>\n",
    "Ex: L1: [150, 155, 145, 148]<br>\n",
    "Output: [68.03, 70.3, 65.77, 67.13]\n"
   ]
  },
  {
   "cell_type": "code",
   "execution_count": 38,
   "id": "f2cc8fc5",
   "metadata": {},
   "outputs": [
    {
     "name": "stdout",
     "output_type": "stream",
     "text": [
      "Enter number of Students 4\n",
      "150\n",
      "155\n",
      "145\n",
      "148\n",
      "List of student weight in lbs \n",
      "L1:  [150, 155, 145, 148]\n",
      "List of student weights in kilograms \n",
      "Output: [68.04, 70.31, 65.77, 67.13]\n"
     ]
    }
   ],
   "source": [
    "# Promping user to enter number of students and storing\n",
    "no_of_stud = int(input(\"Enter number of Students \"))\n",
    "\n",
    "# created 2 empthy list of weight in lbs and kgs\n",
    "L1 = []\n",
    "wkgs=[]\n",
    "\n",
    "# Promping user to enter weight in lbs for nuo_of_stud times\n",
    "for i in range(0,no_of_stud):\n",
    "    lbs=int(input(\"\"))\n",
    "    #Storing lbs weight in list L1\n",
    "    L1.append(lbs)\n",
    "    #converting weight in lbs to kgs using formula lbs * 0.453592 and storing it in list wkgs by rounding deciaml value to 2\n",
    "    kg=lbs*0.453592\n",
    "    wkgs.append(round(kg,2))\n",
    "    \n",
    "#Print list of weights in lbs\n",
    "print(\"List of student weight in lbs \\nL1: \",L1)\n",
    "print(\"List of student weights in kilograms \\nOutput:\",wkgs)\n",
    "    "
   ]
  },
  {
   "cell_type": "code",
   "execution_count": null,
   "id": "5a4fa29d",
   "metadata": {},
   "outputs": [],
   "source": []
  }
 ],
 "metadata": {
  "kernelspec": {
   "display_name": "Python 3 (ipykernel)",
   "language": "python",
   "name": "python3"
  },
  "language_info": {
   "codemirror_mode": {
    "name": "ipython",
    "version": 3
   },
   "file_extension": ".py",
   "mimetype": "text/x-python",
   "name": "python",
   "nbconvert_exporter": "python",
   "pygments_lexer": "ipython3",
   "version": "3.9.13"
  }
 },
 "nbformat": 4,
 "nbformat_minor": 5
}
